{
 "cells": [
  {
   "cell_type": "code",
   "execution_count": 34,
   "metadata": {},
   "outputs": [
    {
     "name": "stdout",
     "output_type": "stream",
     "text": [
      "Populating the interactive namespace from numpy and matplotlib\n"
     ]
    }
   ],
   "source": [
    "%pylab inline\n",
    "import math\n",
    "import numpy as np"
   ]
  },
  {
   "cell_type": "code",
   "execution_count": 35,
   "metadata": {},
   "outputs": [
    {
     "name": "stdout",
     "output_type": "stream",
     "text": [
      "[ 0.97627008  4.30378733  2.05526752  0.89766366 -1.52690401  2.91788226\n",
      " -1.24825577  7.83546002  9.27325521 -2.33116962]\n"
     ]
    }
   ],
   "source": [
    "K = 10\n",
    "np.random.seed(0)\n",
    "mu = np.random.uniform(-10, 10, K)\n",
    "sigma = np.random.uniform(1, 10, K)\n",
    "\n",
    "def bandit(k):\n",
    "    return np.random.normal(mu[k], sigma[k])\n",
    "\n",
    "print(mu)\n"
   ]
  },
  {
   "cell_type": "code",
   "execution_count": 36,
   "metadata": {},
   "outputs": [
    {
     "name": "stdout",
     "output_type": "stream",
     "text": [
      "[ -5.68174866   0.60720049   1.48457626  -2.31395862  -2.05496614\n",
      "   4.02333283  -2.60453333  -1.72256513  -1.46496613 -10.17245061]\n",
      "4501.102218130484\n"
     ]
    }
   ],
   "source": [
    "# e-greedy method\n",
    "# forgetting factor\n",
    "T = 1000\n",
    "np.random.seed(0)\n",
    "total_reward = 0\n",
    "Q = np.zeros(K)\n",
    "e = 0.1\n",
    "a = 0.5\n",
    "\n",
    "# I think at first we should sample each bandit one time.\n",
    "for k in range(K):\n",
    "    reward = bandit(k)\n",
    "    total_reward += reward\n",
    "    Q[k] += (reward - Q[k]) * a\n",
    "        \n",
    "for i in range(T - K):\n",
    "    p = np.random.uniform(0, 1)\n",
    "    if p > e:\n",
    "        k = argmax(Q)\n",
    "    else:\n",
    "        k = np.random.randint(K)\n",
    "        \n",
    "    reward = bandit(k)\n",
    "    total_reward += reward\n",
    "    Q[k] += (reward - Q[k]) * a\n",
    "\n",
    "print(Q)\n",
    "print(total_reward)"
   ]
  },
  {
   "cell_type": "code",
   "execution_count": 37,
   "metadata": {},
   "outputs": [
    {
     "name": "stdout",
     "output_type": "stream",
     "text": [
      "[-3.87757432 -2.46059918 -3.40219836 -1.06787517 -2.488491    2.11613551\n",
      " -0.62301597 -1.45577296 -2.96998633 -2.77609179]\n",
      "2856.5058965103385\n"
     ]
    }
   ],
   "source": [
    "# UCB method\n",
    "T = 1000\n",
    "np.random.seed(0)\n",
    "total_reward = 0\n",
    "Q = np.zeros(K)\n",
    "N = np.zeros(K)\n",
    "a = 0.5\n",
    "c = 1\n",
    "\n",
    "# I think at first we should sample each bandit one time.\n",
    "for k in range(K):\n",
    "    reward = bandit(k)\n",
    "    total_reward += reward\n",
    "    Q[k] += (reward - Q[k]) * a\n",
    "    N[k] += 1\n",
    "        \n",
    "for i in range(T - K):\n",
    "    k = argmax(Q + c * np.sqrt(np.log(10)/N))\n",
    "        \n",
    "    reward = bandit(k)\n",
    "    total_reward += reward\n",
    "    N[k] += 1\n",
    "    Q[k] += (reward - Q[k]) * a\n",
    "\n",
    "print(Q)\n",
    "print(total_reward)"
   ]
  },
  {
   "cell_type": "code",
   "execution_count": null,
   "metadata": {},
   "outputs": [],
   "source": [
    "# I test different mu and want to see what will happen to the two algorithms.\n",
    "# When sigma is small, UCB will have a better performance and when sigma is big, UCB will be worse than e-greedy. "
   ]
  }
 ],
 "metadata": {
  "kernelspec": {
   "display_name": "Python 3",
   "language": "python",
   "name": "python3"
  },
  "language_info": {
   "codemirror_mode": {
    "name": "ipython",
    "version": 3
   },
   "file_extension": ".py",
   "mimetype": "text/x-python",
   "name": "python",
   "nbconvert_exporter": "python",
   "pygments_lexer": "ipython3",
   "version": "3.7.6"
  }
 },
 "nbformat": 4,
 "nbformat_minor": 4
}
